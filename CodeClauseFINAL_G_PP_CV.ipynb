{
 "cells": [
  {
   "cell_type": "code",
   "execution_count": 3,
   "id": "0912062a",
   "metadata": {},
   "outputs": [],
   "source": [
    "import pandas as pd\n",
    "from sklearn.ensemble import RandomForestClassifier\n",
    "\n",
    "# Load datasets\n",
    "train_data = pd.read_csv(r\"C:\\Users\\R Sobha Supriya\\Desktop\\p\\train.csv\")  \n",
    "test_data = pd.read_csv(r\"C:\\Users\\R Sobha Supriya\\Desktop\\p\\test.csv\")  \n",
    "\n",
    "# Preprocess datasets\n",
    "train_data_encoded = pd.get_dummies(train_data, columns=['Gender'], drop_first=True)\n",
    "test_data_encoded = pd.get_dummies(test_data, columns=['Gender'], drop_first=True)\n",
    "\n",
    "# Ensure test set has the same features as the training set\n",
    "missing_columns = set(train_data_encoded.columns) - set(test_data_encoded.columns)\n",
    "for column in missing_columns:\n",
    "    test_data_encoded[column] = 0\n",
    "\n",
    "# Extract features and labels\n",
    "X_train = train_data_encoded.drop(columns=['Personality (Class label)'])\n",
    "y_train = train_data_encoded['Personality (Class label)']\n",
    "X_test = test_data_encoded[X_train.columns]\n",
    "\n",
    "# Train a model\n",
    "model = RandomForestClassifier(n_estimators=100, random_state=42)\n",
    "model.fit(X_train, y_train)\n",
    "\n",
    "# Make predictions on the test set\n",
    "y_pred = model.predict(X_test)\n",
    "\n",
    "# Save predictions to a CSV file\n",
    "predictions = pd.DataFrame({'Predicted_Personality': y_pred})\n",
    "predictions.to_csv(r\"C:\\Users\\R Sobha Supriya\\Desktop\\predicted_personality.csv\", index=False)\n"
   ]
  },
  {
   "cell_type": "code",
   "execution_count": 4,
   "id": "cca4b8e3",
   "metadata": {},
   "outputs": [
    {
     "name": "stdout",
     "output_type": "stream",
     "text": [
      "Index(['Gender', 'Age', 'openness', 'neuroticism', 'conscientiousness',\n",
      "       'agreeableness', 'extraversion', 'Personality (Class label)'],\n",
      "      dtype='object')\n",
      "Index(['Gender', 'Age', 'openness', 'neuroticism', 'conscientiousness',\n",
      "       'agreeableness', 'extraversion', 'Personality (class label)'],\n",
      "      dtype='object')\n"
     ]
    }
   ],
   "source": [
    "# Print the column names of the train_data DataFrame\n",
    "print(train_data.columns)\n",
    "\n",
    "# Print the column names of the test_data DataFrame\n",
    "print(test_data.columns)\n"
   ]
  },
  {
   "cell_type": "code",
   "execution_count": 5,
   "id": "2cec0d36",
   "metadata": {},
   "outputs": [
    {
     "name": "stdout",
     "output_type": "stream",
     "text": [
      "Accuracy: 1.0\n"
     ]
    }
   ],
   "source": [
    "import pandas as pd\n",
    "from sklearn.ensemble import RandomForestClassifier\n",
    "from sklearn.metrics import accuracy_score\n",
    "\n",
    "# Load datasets\n",
    "train_data = pd.read_csv(r\"C:\\Users\\R Sobha Supriya\\Desktop\\p\\train.csv\")  \n",
    "test_data = pd.read_csv(r\"C:\\Users\\R Sobha Supriya\\Desktop\\p\\test.csv\")  \n",
    "output_data = pd.read_csv(r\"C:\\Users\\R Sobha Supriya\\Desktop\\predicted_personality.csv\")  # Assuming this file contains the predictions\n",
    "\n",
    "# Preprocess datasets\n",
    "train_data_encoded = pd.get_dummies(train_data, columns=['Gender'], drop_first=True)\n",
    "test_data_encoded = pd.get_dummies(test_data, columns=['Gender'], drop_first=True)\n",
    "\n",
    "# Ensure test set has the same features as the training set\n",
    "missing_columns = set(train_data_encoded.columns) - set(test_data_encoded.columns)\n",
    "for column in missing_columns:\n",
    "    test_data_encoded[column] = 0\n",
    "\n",
    "# Extract features and labels\n",
    "X_train = train_data_encoded.drop(columns=['Personality (Class label)'])\n",
    "y_train = train_data_encoded['Personality (Class label)']\n",
    "X_test = test_data_encoded[X_train.columns]\n",
    "\n",
    "# Train a model\n",
    "model = RandomForestClassifier(n_estimators=100, random_state=42)\n",
    "model.fit(X_train, y_train)\n",
    "\n",
    "# Make predictions on the test set\n",
    "y_pred = model.predict(X_test)\n",
    "\n",
    "# Get the actual labels from the output file\n",
    "y_true = output_data['Predicted_Personality']\n",
    "\n",
    "# Calculate accuracy\n",
    "accuracy = accuracy_score(y_true, y_pred)\n",
    "print(f'Accuracy: {accuracy}')\n"
   ]
  },
  {
   "cell_type": "code",
   "execution_count": 6,
   "id": "4553533d",
   "metadata": {},
   "outputs": [
    {
     "data": {
      "text/html": [
       "<div>\n",
       "<style scoped>\n",
       "    .dataframe tbody tr th:only-of-type {\n",
       "        vertical-align: middle;\n",
       "    }\n",
       "\n",
       "    .dataframe tbody tr th {\n",
       "        vertical-align: top;\n",
       "    }\n",
       "\n",
       "    .dataframe thead th {\n",
       "        text-align: right;\n",
       "    }\n",
       "</style>\n",
       "<table border=\"1\" class=\"dataframe\">\n",
       "  <thead>\n",
       "    <tr style=\"text-align: right;\">\n",
       "      <th></th>\n",
       "      <th>Predicted_Personality</th>\n",
       "    </tr>\n",
       "  </thead>\n",
       "  <tbody>\n",
       "    <tr>\n",
       "      <th>0</th>\n",
       "      <td>serious</td>\n",
       "    </tr>\n",
       "    <tr>\n",
       "      <th>1</th>\n",
       "      <td>extraverted</td>\n",
       "    </tr>\n",
       "    <tr>\n",
       "      <th>2</th>\n",
       "      <td>serious</td>\n",
       "    </tr>\n",
       "    <tr>\n",
       "      <th>3</th>\n",
       "      <td>dependable</td>\n",
       "    </tr>\n",
       "    <tr>\n",
       "      <th>4</th>\n",
       "      <td>serious</td>\n",
       "    </tr>\n",
       "    <tr>\n",
       "      <th>...</th>\n",
       "      <td>...</td>\n",
       "    </tr>\n",
       "    <tr>\n",
       "      <th>310</th>\n",
       "      <td>lively</td>\n",
       "    </tr>\n",
       "    <tr>\n",
       "      <th>311</th>\n",
       "      <td>serious</td>\n",
       "    </tr>\n",
       "    <tr>\n",
       "      <th>312</th>\n",
       "      <td>serious</td>\n",
       "    </tr>\n",
       "    <tr>\n",
       "      <th>313</th>\n",
       "      <td>extraverted</td>\n",
       "    </tr>\n",
       "    <tr>\n",
       "      <th>314</th>\n",
       "      <td>serious</td>\n",
       "    </tr>\n",
       "  </tbody>\n",
       "</table>\n",
       "<p>315 rows × 1 columns</p>\n",
       "</div>"
      ],
      "text/plain": [
       "    Predicted_Personality\n",
       "0                 serious\n",
       "1             extraverted\n",
       "2                 serious\n",
       "3              dependable\n",
       "4                 serious\n",
       "..                    ...\n",
       "310                lively\n",
       "311               serious\n",
       "312               serious\n",
       "313           extraverted\n",
       "314               serious\n",
       "\n",
       "[315 rows x 1 columns]"
      ]
     },
     "execution_count": 6,
     "metadata": {},
     "output_type": "execute_result"
    }
   ],
   "source": [
    "import pandas as pd\n",
    "\n",
    "# Load the predicted personality CSV file\n",
    "predicted_personality = pd.read_csv(r\"C:\\Users\\R Sobha Supriya\\Desktop\\predicted_personality.csv\")\n",
    "\n",
    "# Display the contents\n",
    "predicted_personality\n"
   ]
  },
  {
   "cell_type": "code",
   "execution_count": null,
   "id": "443c367e",
   "metadata": {},
   "outputs": [],
   "source": []
  },
  {
   "cell_type": "code",
   "execution_count": null,
   "id": "321ac85a",
   "metadata": {},
   "outputs": [],
   "source": []
  }
 ],
 "metadata": {
  "kernelspec": {
   "display_name": "Python 3 (ipykernel)",
   "language": "python",
   "name": "python3"
  },
  "language_info": {
   "codemirror_mode": {
    "name": "ipython",
    "version": 3
   },
   "file_extension": ".py",
   "mimetype": "text/x-python",
   "name": "python",
   "nbconvert_exporter": "python",
   "pygments_lexer": "ipython3",
   "version": "3.10.9"
  }
 },
 "nbformat": 4,
 "nbformat_minor": 5
}
