{
 "cells": [
  {
   "cell_type": "markdown",
   "id": "c1c7399d",
   "metadata": {},
   "source": [
    "# LANE DETECTION FOR MULTIPLE IMAGES - TASK-1"
   ]
  },
  {
   "cell_type": "code",
   "execution_count": 1,
   "id": "5ba8f34c",
   "metadata": {},
   "outputs": [
    {
     "name": "stdout",
     "output_type": "stream",
     "text": [
      "Processing complete.\n"
     ]
    }
   ],
   "source": [
    "#LANE DETECTION FOR MULTIPLE IMAGES\n",
    "\n",
    "import cv2\n",
    "import numpy as np\n",
    "import os\n",
    "\n",
    "# Define a function for lane detection\n",
    "def detect_lanes(image):\n",
    "    # Convert the image to grayscale\n",
    "    gray = cv2.cvtColor(image, cv2.COLOR_BGR2GRAY)\n",
    "    \n",
    "    # Apply Gaussian blur\n",
    "    blurred = cv2.GaussianBlur(gray, (5, 5), 0)\n",
    "    \n",
    "    # Apply Canny edge detection\n",
    "    edges = cv2.Canny(blurred, 50, 150)\n",
    "    \n",
    "    # Define a region of interest (ROI)\n",
    "    height, width = edges.shape\n",
    "    mask = np.zeros_like(edges)\n",
    "    polygon = np.array([[\n",
    "        (0, height),\n",
    "        (width, height),\n",
    "        (width // 2, height // 2)\n",
    "    ]], np.int32)\n",
    "    cv2.fillPoly(mask, polygon, 255)\n",
    "    masked_edges = cv2.bitwise_and(edges, mask)\n",
    "    \n",
    "    # Apply Hough Line Transform\n",
    "    lines = cv2.HoughLinesP(masked_edges, 1, np.pi / 180, threshold=50, minLineLength=100, maxLineGap=50)\n",
    "    \n",
    "    # Draw the lines on a blank image\n",
    "    line_image = np.zeros((height, width, 3), dtype=np.uint8)\n",
    "    if lines is not None:\n",
    "        for line in lines:\n",
    "            x1, y1, x2, y2 = line[0]\n",
    "            cv2.line(line_image, (x1, y1), (x2, y2), (0, 0, 255), 5)\n",
    "    \n",
    "    # Combine the original image with the line image\n",
    "    result = cv2.addWeighted(image, 0.8, line_image, 1, 0)\n",
    "    \n",
    "    return result\n",
    "\n",
    "# Define input and output directories\n",
    "input_folder = 'input_images'\n",
    "output_folder = 'output_images'\n",
    "\n",
    "# Create output directory if it doesn't exist\n",
    "if not os.path.exists(output_folder):\n",
    "    os.makedirs(output_folder)\n",
    "\n",
    "# Process each image in the input folder\n",
    "for file_name in os.listdir(input_folder):\n",
    "    if file_name.endswith('.jpg') or file_name.endswith('.png'):\n",
    "        # Read the image\n",
    "        image_path = os.path.join(input_folder, file_name)\n",
    "        image = cv2.imread(image_path)\n",
    "        \n",
    "        # Detect lanes\n",
    "        result = detect_lanes(image)\n",
    "        \n",
    "        # Display the result\n",
    "        cv2.imshow('Result', result)\n",
    "        cv2.waitKey(0)  # Wait for a key press to move to the next image\n",
    "        \n",
    "        # Save the result\n",
    "        output_path = os.path.join(output_folder, 'result_' + file_name)\n",
    "        cv2.imwrite(output_path, result)\n",
    "\n",
    "cv2.destroyAllWindows()  # Close all OpenCV windows\n",
    "print(\"Processing complete.\")"
   ]
  },
  {
   "cell_type": "markdown",
   "id": "605f7699",
   "metadata": {},
   "source": [
    "# LANE DETECTION FOR SINGLE IMAGE"
   ]
  },
  {
   "cell_type": "code",
   "execution_count": 2,
   "id": "3fe23111",
   "metadata": {},
   "outputs": [
    {
     "data": {
      "text/plain": [
       "0"
      ]
     },
     "execution_count": 2,
     "metadata": {},
     "output_type": "execute_result"
    }
   ],
   "source": [
    "import cv2 \n",
    "import numpy as np\n",
    "img = cv2.imread ('road.png')\n",
    "gray = cv2.cvtColor( img,cv2.COLOR_BGR2GRAY) \n",
    "blur = cv2.GaussianBlur(gray, (5, 5), 0) \n",
    "edges = cv2.Canny (blur, 50, 150) \n",
    "mask= np.zeros_like(edges)\n",
    "height, width = mask. shape \n",
    "polygon = np.array( [[\n",
    "                        (0, height),\n",
    "                        (width, height),(width // 2, height // 2)]]) \n",
    "cv2.fillPoly (mask, polygon, 255)\n",
    "masked_edges = cv2.bitwise_and (edges, mask) \n",
    "lines = cv2.HoughLinesP (masked_edges, rho=6, theta=np. pi/60, threshold=160, \n",
    "                         lines=np.array ([]), minLineLength=40, maxLineGap=25) \n",
    "line_img = np. zeros_like(img) \n",
    "for line in lines: \n",
    "     x1, y1, x2, y2 = line[0] \n",
    "     cv2.line(line_img, (x1, y1), (x2, y2), (0, 0, 255), 10) \n",
    "result = cv2.addWeighted ( img, 0.8, line_img, 1.0, 0.0) \n",
    "cv2. imshow('Result', result)\n",
    "cv2.waitKey(0)"
   ]
  },
  {
   "cell_type": "code",
   "execution_count": null,
   "id": "06b1e1c6",
   "metadata": {},
   "outputs": [],
   "source": []
  }
 ],
 "metadata": {
  "kernelspec": {
   "display_name": "Python 3 (ipykernel)",
   "language": "python",
   "name": "python3"
  },
  "language_info": {
   "codemirror_mode": {
    "name": "ipython",
    "version": 3
   },
   "file_extension": ".py",
   "mimetype": "text/x-python",
   "name": "python",
   "nbconvert_exporter": "python",
   "pygments_lexer": "ipython3",
   "version": "3.10.9"
  }
 },
 "nbformat": 4,
 "nbformat_minor": 5
}
