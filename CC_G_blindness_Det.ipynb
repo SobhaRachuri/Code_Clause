{
 "cells": [
  {
   "cell_type": "code",
   "execution_count": 20,
   "id": "e0ad8e31",
   "metadata": {},
   "outputs": [
    {
     "name": "stdout",
     "output_type": "stream",
     "text": [
      "Found 2930 images belonging to 1 classes.\n",
      "Found 366 images belonging to 1 classes.\n",
      "Found 366 images belonging to 1 classes.\n",
      "Epoch 1/10\n",
      "92/92 [==============================] - 451s 5s/step - loss: 0.0077 - accuracy: 0.9939 - val_loss: 0.0000e+00 - val_accuracy: 1.0000\n",
      "Epoch 2/10\n",
      "92/92 [==============================] - 916s 10s/step - loss: 0.0000e+00 - accuracy: 1.0000 - val_loss: 0.0000e+00 - val_accuracy: 1.0000\n",
      "Epoch 3/10\n",
      "92/92 [==============================] - 1392s 15s/step - loss: 0.0000e+00 - accuracy: 1.0000 - val_loss: 0.0000e+00 - val_accuracy: 1.0000\n",
      "Epoch 4/10\n",
      "92/92 [==============================] - 1945s 21s/step - loss: 0.0000e+00 - accuracy: 1.0000 - val_loss: 0.0000e+00 - val_accuracy: 1.0000\n",
      "Epoch 5/10\n",
      "92/92 [==============================] - 1012s 11s/step - loss: 0.0000e+00 - accuracy: 1.0000 - val_loss: 0.0000e+00 - val_accuracy: 1.0000\n",
      "Epoch 6/10\n",
      "92/92 [==============================] - 319s 3s/step - loss: 0.0000e+00 - accuracy: 1.0000 - val_loss: 0.0000e+00 - val_accuracy: 1.0000\n",
      "Epoch 7/10\n",
      "92/92 [==============================] - 317s 3s/step - loss: 0.0000e+00 - accuracy: 1.0000 - val_loss: 0.0000e+00 - val_accuracy: 1.0000\n",
      "Epoch 8/10\n",
      "92/92 [==============================] - 316s 3s/step - loss: 0.0000e+00 - accuracy: 1.0000 - val_loss: 0.0000e+00 - val_accuracy: 1.0000\n",
      "Epoch 9/10\n",
      "92/92 [==============================] - 317s 3s/step - loss: 0.0000e+00 - accuracy: 1.0000 - val_loss: 0.0000e+00 - val_accuracy: 1.0000\n",
      "Epoch 10/10\n",
      "92/92 [==============================] - 317s 3s/step - loss: 0.0000e+00 - accuracy: 1.0000 - val_loss: 0.0000e+00 - val_accuracy: 1.0000\n",
      "12/12 [==============================] - 38s 3s/step - loss: 0.0000e+00 - accuracy: 1.0000\n",
      "Test accuracy: 1.0\n"
     ]
    }
   ],
   "source": [
    "import pandas as pd\n",
    "from tensorflow.keras.models import Sequential\n",
    "from tensorflow.keras.layers import Conv2D, MaxPooling2D, Flatten, Dense, Dropout\n",
    "from tensorflow.keras.preprocessing.image import ImageDataGenerator\n",
    "\n",
    "# Step 1: Load CSV Files\n",
    "train_df = pd.read_csv(r'C:\\Users\\R Sobha Supriya\\Desktop\\cc\\train_1.csv')\n",
    "test_df = pd.read_csv(r'C:\\Users\\R Sobha Supriya\\Desktop\\cc\\test.csv')\n",
    "valid_df = pd.read_csv(r'C:\\Users\\R Sobha Supriya\\Desktop\\cc\\valid.csv')\n",
    "\n",
    "# Step 2: Define Image Data Generators\n",
    "train_datagen = ImageDataGenerator(rescale=1./255)\n",
    "test_datagen = ImageDataGenerator(rescale=1./255)\n",
    "\n",
    "# Step 3: Load and Preprocess Images\n",
    "train_generator = train_datagen.flow_from_directory(\n",
    "    r\"C:\\Users\\R Sobha Supriya\\Desktop\\cc\\train_images\",\n",
    "    target_size=(150, 150),\n",
    "    batch_size=32,\n",
    "    class_mode='binary'\n",
    ")\n",
    "\n",
    "test_generator = test_datagen.flow_from_directory(\n",
    "    r\"C:\\Users\\R Sobha Supriya\\Desktop\\cc\\test_images\",\n",
    "    target_size=(150, 150),\n",
    "    batch_size=32,\n",
    "    class_mode='binary'\n",
    ")\n",
    "\n",
    "valid_generator = test_datagen.flow_from_directory(\n",
    "    r\"C:\\Users\\R Sobha Supriya\\Desktop\\cc\\val_images\",\n",
    "    target_size=(150, 150),\n",
    "    batch_size=32,\n",
    "    class_mode='binary'\n",
    ")\n",
    "\n",
    "# Step 4: Build a CNN model\n",
    "model = Sequential([\n",
    "    Conv2D(32, (3,3), activation='relu', input_shape=(150,150,3)),\n",
    "    MaxPooling2D(2,2),\n",
    "    Conv2D(64, (3,3), activation='relu'),\n",
    "    MaxPooling2D(2,2),\n",
    "    Conv2D(128, (3,3), activation='relu'),\n",
    "    MaxPooling2D(2,2),\n",
    "    Flatten(),\n",
    "    Dense(512, activation='relu'),\n",
    "    Dropout(0.5),\n",
    "    Dense(1, activation='sigmoid')\n",
    "])\n",
    "\n",
    "model.compile(optimizer='adam', loss='binary_crossentropy', metrics=['accuracy'])\n",
    "\n",
    "# Step 5: Train the model\n",
    "model.fit(train_generator, epochs=10, validation_data=valid_generator)\n",
    "\n",
    "# Step 6: Evaluate the model\n",
    "test_loss, test_acc = model.evaluate(test_generator)\n",
    "print(f'Test accuracy: {test_acc}')\n",
    "\n",
    "# Step 7: Deploy the model (depends on your use case, e.g., web app, standalone app, etc.)\n"
   ]
  },
  {
   "cell_type": "code",
   "execution_count": 22,
   "id": "32efe097",
   "metadata": {},
   "outputs": [],
   "source": [
    "model.save('blindness_detection_model.keras')\n"
   ]
  },
  {
   "cell_type": "code",
   "execution_count": 24,
   "id": "a72af5d0",
   "metadata": {},
   "outputs": [
    {
     "name": "stdout",
     "output_type": "stream",
     "text": [
      "1/1 [==============================] - 0s 413ms/step\n",
      "No Blindness Detected\n"
     ]
    }
   ],
   "source": [
    "from tensorflow.keras.preprocessing import image\n",
    "import numpy as np\n",
    "\n",
    "# Load and preprocess the image\n",
    "img_path = r\"C:\\Users\\R Sobha Supriya\\Desktop\\eye.jpg\"  # Replace with the actual image path\n",
    "img = image.load_img(img_path, target_size=(150, 150))\n",
    "img_array = image.img_to_array(img)\n",
    "img_array = np.expand_dims(img_array, axis=0)\n",
    "img_array /= 255.\n",
    "\n",
    "# Make the prediction\n",
    "prediction = model.predict(img_array)\n",
    "\n",
    "# Interpret the prediction\n",
    "if prediction[0] > 0.5:\n",
    "    print('Blindness Detected')\n",
    "else:\n",
    "    print('No Blindness Detected')\n"
   ]
  },
  {
   "cell_type": "code",
   "execution_count": null,
   "id": "e079a379",
   "metadata": {},
   "outputs": [],
   "source": []
  }
 ],
 "metadata": {
  "kernelspec": {
   "display_name": "Python 3 (ipykernel)",
   "language": "python",
   "name": "python3"
  },
  "language_info": {
   "codemirror_mode": {
    "name": "ipython",
    "version": 3
   },
   "file_extension": ".py",
   "mimetype": "text/x-python",
   "name": "python",
   "nbconvert_exporter": "python",
   "pygments_lexer": "ipython3",
   "version": "3.10.9"
  }
 },
 "nbformat": 4,
 "nbformat_minor": 5
}
